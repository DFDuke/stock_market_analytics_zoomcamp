{
  "cells": [
    {
      "cell_type": "markdown",
      "source": [
        "# Module 2 Homework"
      ],
      "metadata": {
        "id": "10OFx9IWQd6Z"
      },
      "id": "10OFx9IWQd6Z"
    },
    {
      "cell_type": "code",
      "execution_count": null,
      "id": "a036e5bf",
      "metadata": {
        "vscode": {
          "languageId": "plaintext"
        },
        "id": "a036e5bf"
      },
      "outputs": [],
      "source": [
        "!pip install yfinance"
      ]
    },
    {
      "cell_type": "code",
      "source": [],
      "metadata": {
        "id": "TE6RkPq_QoAI"
      },
      "id": "TE6RkPq_QoAI",
      "execution_count": null,
      "outputs": []
    },
    {
      "cell_type": "markdown",
      "source": [
        "### Question 1: [IPO] Withdrawn IPOs by Company Type\n"
      ],
      "metadata": {
        "id": "bqEK0ONnQpyV"
      },
      "id": "bqEK0ONnQpyV"
    },
    {
      "cell_type": "markdown",
      "source": [
        "**What is the total withdrawn IPO value (in $ millions) for the company class with the highest total withdrawal value?**\n",
        "\n",
        "From the withdrawn IPO list ([stockanalysis.com/ipos/withdrawn](https://stockanalysis.com/ipos/withdrawn/)), collect and process the data to find out which company type saw the most withdrawn IPO value.\n",
        "\n",
        "#### Steps:\n",
        "1. Use `pandas.read_html()` with the URL above to load the IPO withdrawal table into a DataFrame.\n",
        "   *It is a similar process to Code Snippet 1 discussed at the livestream.*    You should get **99 entries**.\n",
        "2. Create a new column called `Company Class`, categorizing company names based on patterns like:\n",
        "   - “Acquisition Corp” or “Acquisition Corporation” → `Acq.Corp`\n",
        "   - “Inc” or “Incorporated” → `Inc`\n",
        "   - “Group” → `Group`\n",
        "   - “Ltd” or “Limited” → `Limited`\n",
        "   - “Holdings” → `Holdings`\n",
        "   - Others → `Other`\n",
        "\n",
        "  *  Order: Please follow the listed order of classes and assign the first matched value (e.g., for 'shenni holdings limited', you assign the 'Limited' class).\n",
        "\n",
        "  * Hint: make your function more robust by converting names to lowercase and splitting into words before matching patterns.\n",
        "\n",
        "3. Define a new field `Avg. price` by parsing the `Price Range` field (create a function and apply it to the `Price Range` column). Examples:\n",
        "   - '$8.00-$10.00' → `9.0`  \n",
        "   - '$5.00' → `5.0`  \n",
        "   - '-' → `None`\n",
        "4. Convert `Shares Offered` to numeric, clean missing or invalid values.\n",
        "5. Create a new column:  \n",
        "   `Withdrawn Value = Shares Offered * Avg Price` (**71 non-null values**)\n",
        "6. Group by `Company Class` and calculate total withdrawn value.\n",
        "7. **Answer**: Which class had the highest **total** value of withdrawals?"
      ],
      "metadata": {
        "id": "n03syXZ0Qr6X"
      },
      "id": "n03syXZ0Qr6X"
    },
    {
      "cell_type": "markdown",
      "source": [
        "### Question 2:   [IPO] Median Sharpe Ratio for 2024 IPOs (First 5 Months)"
      ],
      "metadata": {
        "id": "Ol9E-ft6Q2Ns"
      },
      "id": "Ol9E-ft6Q2Ns"
    },
    {
      "cell_type": "markdown",
      "source": [
        "**What is the median Sharpe ratio (as of 6 June 2025) for companies that went public in the first 5 months of 2024?**\n",
        "\n",
        "The goal is to replicate the large-scale `yfinance` OHLCV data download and perform basic financial calculations on IPO stocks.\n",
        "\n",
        "\n",
        "#### Steps:\n",
        "\n",
        "1. Using the same approach as in Question 1, download the IPOs in 2024 from:  \n",
        "   [https://stockanalysis.com/ipos/2024/](https://stockanalysis.com/ipos/2024/)  \n",
        "   Filter to keep only those IPOs **before 1 June 2024** (first 5 months of 2024).  \n",
        "   ➤ You should have **75 tickers**.\n",
        "\n",
        "2.  Use **Code Snippet 7** to download daily stock data for those tickers (via `yfinance`).  \n",
        "   Make sure you understand how `growth_1d` ... `growth_365d`, and volatility columns are defined.  \n",
        "   Define a new column `growth_252d` representing growth after **252 trading days** (~1 year), in addition to any other growth periods you already track.\n",
        "\n",
        "\n",
        "3. Calculate the Sharpe ratio assuming a risk-free rate of **4.5%**:\n",
        "\n",
        "   ```python\n",
        "   stocks_df['Sharpe'] = (stocks_df['growth_252d'] - 0.045) / stocks_df['volatility']\n",
        "   ```\n",
        "\n",
        "   ⚠️ **IMPORTANT** Please use the original version of annualized volatility calculation (it was later corrected to another formula):\n",
        "   ```python\n",
        "   stocks_df['volatility'] =   stocks_df['Close'].rolling(30).std() * np.sqrt(252)\n",
        "   ```\n",
        "4. Filter the DataFrame to keep data only for the trading day:  \n",
        "   **‘2025-06-06’**\n",
        "\n",
        "   Compute descriptive statistics (e.g., `.describe()`) for these columns:  \n",
        "   - `growth_252d`  \n",
        "   - `Sharpe`\n",
        "\n",
        "   You should observe:  \n",
        "   - `growth_252d` is defined for **71 out of 75 stocks** (some IPOs are too recent or data starts later).  \n",
        "   - Median `growth_252d` is approximately **0.75** (indicating a 25% decline), while mean is about **1.15**, showing a bias towards high-growth companies pushing the average up.\n",
        "\n",
        "5. **Answer:**  \n",
        "   - What is the **median Sharpe ratio** for these 71 stocks?  \n",
        "   - Note: Positive `Sharpe` means growth exceeding the risk-free rate of 4.5%.  \n",
        "   - [Additional] Do you observe the **same top 10 companies** when sorting by `growth_252d` versus sorting by `Sharpe`?"
      ],
      "metadata": {
        "id": "ydGd37KrQ502"
      },
      "id": "ydGd37KrQ502"
    },
    {
      "cell_type": "markdown",
      "source": [
        "### Question 3: [IPO] ‘Fixed Months Holding Strategy’"
      ],
      "metadata": {
        "id": "rAFY0Y_0Q8q3"
      },
      "id": "rAFY0Y_0Q8q3"
    },
    {
      "cell_type": "markdown",
      "source": [
        "**What is the optimal number of months (1 to 12) to hold a newly IPO'd stock in order to maximize average growth?**  \n",
        "(*Assume you buy at the close of the first trading day and sell after a fixed number of trading days.*)\n",
        "\n",
        "---\n",
        "\n",
        "#### Goal:\n",
        "Investigate whether holding an IPO stock for a fixed number of months after its first trading day produces better returns, using future growth columns.\n",
        "\n",
        "---\n",
        "\n",
        "#### Steps:\n",
        "\n",
        "1. **Start from the existing DataFrame** from Question 2 (75 tickers from IPOs in the first 5 months of 2024).  \n",
        "\n",
        "   Add **12 new columns**:  \n",
        "   `future_growth_1m`, `future_growth_2m`, ..., `future_growth_12m`  \n",
        "   *(Assume 1 month = 21 trading days, so growth is calculated over 21, 42, ..., 252 trading days)*  \n",
        "   This logic is similar to `historyPrices['growth_future_30d']` from **Code Snippet 7**, but extended to longer timeframes.\n",
        "\n",
        "2. **Determine the first trading day** (`min_date`) for each ticker.  \n",
        "   This is the earliest date in the data for each stock.\n",
        "\n",
        "3. **Join the data**:  \n",
        "   Perform an **inner join** between the `min_date` DataFrame and the future growth data on both `ticker` and `date`.  \n",
        "   ➤ You should end up with **75 records** (one per IPO) with all 12 `future_growth_...` fields populated.\n",
        "\n",
        "4. **Compute descriptive statistics** for the resulting DataFrame:  \n",
        "   Use `.describe()` or similar to analyze each of the 12 columns:  \n",
        "   - `future_growth_1m`  \n",
        "   - `future_growth_2m`  \n",
        "   - ...  \n",
        "   - `future_growth_12m`  \n",
        "\n",
        "5. **Determine the best holding period**:  \n",
        "   - Find the number of months **(1 to 12)** where the **average (mean)** future growth is **maximal**.  \n",
        "   - This optimal month shows an uplift of **>1%** compared to all others.  \n",
        "   - Still, the average return remains **less than 1** (i.e., expected return is less than doubling your investment)."
      ],
      "metadata": {
        "id": "hMhn9QK0RCQC"
      },
      "id": "hMhn9QK0RCQC"
    },
    {
      "cell_type": "markdown",
      "source": [
        "### Question 4: [Strategy] Simple RSI-Based Trading Strategy"
      ],
      "metadata": {
        "id": "5xECBHtARNJH"
      },
      "id": "5xECBHtARNJH"
    },
    {
      "cell_type": "markdown",
      "source": [
        "**What is the total profit (in $thousands) you would have earned by investing $1000 every time a stock was oversold (RSI < 25)?**\n",
        "\n",
        "\n",
        "---\n",
        "\n",
        "#### Goal:\n",
        "Apply a simple rule-based trading strategy using the **Relative Strength Index (RSI)** technical indicator to identify oversold signals and calculate profits.\n",
        "\n",
        "---\n",
        "\n",
        "\n",
        "#### Steps:\n",
        "\n",
        "1. **Run the full notebook from Lecture 2 (33 stocks)**  \n",
        "   - Ensure you can generate the merged DataFrame containing:  \n",
        "     - OHLCV data  \n",
        "     - Technical indicators  \n",
        "     - Macro indicators  \n",
        "   - Focus on getting **RSI** computed using **Code Snippets 8 and 9**.  \n",
        "   - This process is essential and will help during the capstone project.\n",
        "\n",
        "2. ⚠️ **IMPORTANT** Please use this file to solve the Home Assignment (**all next steps**)\n",
        "\n",
        "   Download precomputed data using this snippet:\n",
        "\n",
        "   ```python\n",
        "   import gdown\n",
        "   import pandas as pd\n",
        "\n",
        "   file_id = \"1grCTCzMZKY5sJRtdbLVCXg8JXA8VPyg-\"\n",
        "   gdown.download(f\"https://drive.google.com/uc?id={file_id}\", \"data.parquet\", quiet=False)\n",
        "   df = pd.read_parquet(\"data.parquet\", engine=\"pyarrow\")\n",
        "\n",
        "3. **RSI Strategy Setup:**  \n",
        "   - RSI is already available in the dataset as a field.  \n",
        "   - The threshold for **oversold** is defined as `RSI < 25`.\n",
        "\n",
        "4. **Filter the dataset by RSI and date:**  \n",
        "   ```python\n",
        "   rsi_threshold = 25\n",
        "   selected_df = df[\n",
        "       (df['rsi'] < rsi_threshold) &\n",
        "       (df['Date'] >= '2000-01-01') &\n",
        "       (df['Date'] <= '2025-06-01')\n",
        "   ]\n",
        "5. **Calculate Net Profit Over 25 Years:**  \n",
        "   - Total number of trades: **1568**  \n",
        "   - For each trade, you invest **$1000**  \n",
        "   - Use the 30-day forward return (`growth_future_30d`) to compute net earnings:  \n",
        "     ```python\n",
        "     net_income = 1000 * (selected_df['growth_future_30d'] - 1).sum()\n",
        "     ```\n",
        "\n",
        "   - **Final Answer:**  \n",
        "     What is the **net income in $K** (i.e., in thousands of dollars) that could be earned using this RSI-based oversold strategy from 2000–2025?"
      ],
      "metadata": {
        "id": "13Ht2hwmRPSI"
      },
      "id": "13Ht2hwmRPSI"
    },
    {
      "cell_type": "markdown",
      "source": [
        "### Q5. [Exploratory, Optional] Predicting a Positive-Return IPO"
      ],
      "metadata": {
        "id": "PQoZAQxDRSc5"
      },
      "id": "PQoZAQxDRSc5"
    },
    {
      "cell_type": "markdown",
      "source": [
        "Most of the strategies for investing in IPOs deliver **negative average and median returns** (and even 75% quantiles).\n",
        "\n",
        "**Question:**  \n",
        "How would you change the strategy if you want to **increase the profitability**?\n",
        "\n",
        "> This is an open-ended brainstorming question — propose ideas for identifying IPOs with positive future returns or building a more effective trading strategy.\n",
        "     "
      ],
      "metadata": {
        "id": "eyohcTGJRUPa"
      },
      "id": "eyohcTGJRUPa"
    }
  ],
  "metadata": {
    "language_info": {
      "name": "python"
    },
    "colab": {
      "provenance": []
    }
  },
  "nbformat": 4,
  "nbformat_minor": 5
}